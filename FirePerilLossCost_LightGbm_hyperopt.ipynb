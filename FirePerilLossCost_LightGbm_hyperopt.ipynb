{
 "cells": [
  {
   "cell_type": "code",
   "execution_count": 1,
   "metadata": {},
   "outputs": [],
   "source": [
    "import numpy as np\n",
    "import pandas as pd\n",
    "from pandas_profiling import ProfileReport\n",
    "pd.options.display.float_format = '{:.2f}'.format #Supress scientific notation "
   ]
  },
  {
   "cell_type": "code",
   "execution_count": 2,
   "metadata": {},
   "outputs": [
    {
     "name": "stderr",
     "output_type": "stream",
     "text": [
      "C:\\Users\\Phanindra.Panthagani\\Anaconda3\\envs\\nw_training\\lib\\site-packages\\IPython\\core\\interactiveshell.py:3063: DtypeWarning: Columns (8) have mixed types.Specify dtype option on import or set low_memory=False.\n",
      "  interactivity=interactivity, compiler=compiler, result=result)\n"
     ]
    },
    {
     "data": {
      "text/html": [
       "<div>\n",
       "<style scoped>\n",
       "    .dataframe tbody tr th:only-of-type {\n",
       "        vertical-align: middle;\n",
       "    }\n",
       "\n",
       "    .dataframe tbody tr th {\n",
       "        vertical-align: top;\n",
       "    }\n",
       "\n",
       "    .dataframe thead th {\n",
       "        text-align: right;\n",
       "    }\n",
       "</style>\n",
       "<table border=\"1\" class=\"dataframe\">\n",
       "  <thead>\n",
       "    <tr style=\"text-align: right;\">\n",
       "      <th></th>\n",
       "      <th>target</th>\n",
       "      <th>var1</th>\n",
       "      <th>var2</th>\n",
       "      <th>var3</th>\n",
       "      <th>var4</th>\n",
       "      <th>var5</th>\n",
       "      <th>var6</th>\n",
       "      <th>var7</th>\n",
       "      <th>var8</th>\n",
       "      <th>var9</th>\n",
       "      <th>...</th>\n",
       "      <th>weatherVar227</th>\n",
       "      <th>weatherVar228</th>\n",
       "      <th>weatherVar229</th>\n",
       "      <th>weatherVar230</th>\n",
       "      <th>weatherVar231</th>\n",
       "      <th>weatherVar232</th>\n",
       "      <th>weatherVar233</th>\n",
       "      <th>weatherVar234</th>\n",
       "      <th>weatherVar235</th>\n",
       "      <th>weatherVar236</th>\n",
       "    </tr>\n",
       "    <tr>\n",
       "      <th>id</th>\n",
       "      <th></th>\n",
       "      <th></th>\n",
       "      <th></th>\n",
       "      <th></th>\n",
       "      <th></th>\n",
       "      <th></th>\n",
       "      <th></th>\n",
       "      <th></th>\n",
       "      <th></th>\n",
       "      <th></th>\n",
       "      <th></th>\n",
       "      <th></th>\n",
       "      <th></th>\n",
       "      <th></th>\n",
       "      <th></th>\n",
       "      <th></th>\n",
       "      <th></th>\n",
       "      <th></th>\n",
       "      <th></th>\n",
       "      <th></th>\n",
       "      <th></th>\n",
       "    </tr>\n",
       "  </thead>\n",
       "  <tbody>\n",
       "    <tr>\n",
       "      <th>1</th>\n",
       "      <td>0.00</td>\n",
       "      <td>Z</td>\n",
       "      <td>Z</td>\n",
       "      <td>Z</td>\n",
       "      <td>N1</td>\n",
       "      <td>Z</td>\n",
       "      <td>Z</td>\n",
       "      <td>3</td>\n",
       "      <td>1</td>\n",
       "      <td>A</td>\n",
       "      <td>...</td>\n",
       "      <td>0.17</td>\n",
       "      <td>0.00</td>\n",
       "      <td>0.00</td>\n",
       "      <td>0.00</td>\n",
       "      <td>1.12</td>\n",
       "      <td>1.22</td>\n",
       "      <td>0.11</td>\n",
       "      <td>2.36</td>\n",
       "      <td>0.40</td>\n",
       "      <td>0.14</td>\n",
       "    </tr>\n",
       "    <tr>\n",
       "      <th>2</th>\n",
       "      <td>0.00</td>\n",
       "      <td>Z</td>\n",
       "      <td>Z</td>\n",
       "      <td>Z</td>\n",
       "      <td>C1</td>\n",
       "      <td>Z</td>\n",
       "      <td>Z</td>\n",
       "      <td>3</td>\n",
       "      <td>2</td>\n",
       "      <td>A</td>\n",
       "      <td>...</td>\n",
       "      <td>0.27</td>\n",
       "      <td>0.00</td>\n",
       "      <td>27.51</td>\n",
       "      <td>0.00</td>\n",
       "      <td>3.83</td>\n",
       "      <td>1.04</td>\n",
       "      <td>0.03</td>\n",
       "      <td>0.86</td>\n",
       "      <td>0.23</td>\n",
       "      <td>0.74</td>\n",
       "    </tr>\n",
       "    <tr>\n",
       "      <th>3</th>\n",
       "      <td>0.00</td>\n",
       "      <td>3</td>\n",
       "      <td>Z</td>\n",
       "      <td>4</td>\n",
       "      <td>J3</td>\n",
       "      <td>B</td>\n",
       "      <td>B</td>\n",
       "      <td>2</td>\n",
       "      <td>4</td>\n",
       "      <td>Z</td>\n",
       "      <td>...</td>\n",
       "      <td>0.98</td>\n",
       "      <td>0.00</td>\n",
       "      <td>0.00</td>\n",
       "      <td>0.46</td>\n",
       "      <td>0.10</td>\n",
       "      <td>1.08</td>\n",
       "      <td>0.57</td>\n",
       "      <td>0.70</td>\n",
       "      <td>0.69</td>\n",
       "      <td>0.07</td>\n",
       "    </tr>\n",
       "    <tr>\n",
       "      <th>4</th>\n",
       "      <td>0.00</td>\n",
       "      <td>3</td>\n",
       "      <td>Z</td>\n",
       "      <td>4</td>\n",
       "      <td>H1</td>\n",
       "      <td>B</td>\n",
       "      <td>Z</td>\n",
       "      <td>3</td>\n",
       "      <td>4</td>\n",
       "      <td>Z</td>\n",
       "      <td>...</td>\n",
       "      <td>0.31</td>\n",
       "      <td>0.00</td>\n",
       "      <td>0.00</td>\n",
       "      <td>4.35</td>\n",
       "      <td>0.40</td>\n",
       "      <td>0.34</td>\n",
       "      <td>0.29</td>\n",
       "      <td>0.00</td>\n",
       "      <td>0.00</td>\n",
       "      <td>0.09</td>\n",
       "    </tr>\n",
       "    <tr>\n",
       "      <th>5</th>\n",
       "      <td>0.00</td>\n",
       "      <td>Z</td>\n",
       "      <td>Z</td>\n",
       "      <td>Z</td>\n",
       "      <td>H1</td>\n",
       "      <td>Z</td>\n",
       "      <td>Z</td>\n",
       "      <td>2</td>\n",
       "      <td>4</td>\n",
       "      <td>A</td>\n",
       "      <td>...</td>\n",
       "      <td>2.17</td>\n",
       "      <td>0.00</td>\n",
       "      <td>0.00</td>\n",
       "      <td>0.51</td>\n",
       "      <td>0.52</td>\n",
       "      <td>1.02</td>\n",
       "      <td>1.31</td>\n",
       "      <td>1.34</td>\n",
       "      <td>2.95</td>\n",
       "      <td>0.82</td>\n",
       "    </tr>\n",
       "  </tbody>\n",
       "</table>\n",
       "<p>5 rows × 301 columns</p>\n",
       "</div>"
      ],
      "text/plain": [
       "    target var1 var2 var3 var4 var5 var6 var7 var8 var9  ...  weatherVar227  \\\n",
       "id                                                       ...                  \n",
       "1     0.00    Z    Z    Z   N1    Z    Z    3    1    A  ...           0.17   \n",
       "2     0.00    Z    Z    Z   C1    Z    Z    3    2    A  ...           0.27   \n",
       "3     0.00    3    Z    4   J3    B    B    2    4    Z  ...           0.98   \n",
       "4     0.00    3    Z    4   H1    B    Z    3    4    Z  ...           0.31   \n",
       "5     0.00    Z    Z    Z   H1    Z    Z    2    4    A  ...           2.17   \n",
       "\n",
       "    weatherVar228  weatherVar229  weatherVar230  weatherVar231  weatherVar232  \\\n",
       "id                                                                              \n",
       "1            0.00           0.00           0.00           1.12           1.22   \n",
       "2            0.00          27.51           0.00           3.83           1.04   \n",
       "3            0.00           0.00           0.46           0.10           1.08   \n",
       "4            0.00           0.00           4.35           0.40           0.34   \n",
       "5            0.00           0.00           0.51           0.52           1.02   \n",
       "\n",
       "    weatherVar233  weatherVar234 weatherVar235  weatherVar236  \n",
       "id                                                             \n",
       "1            0.11           2.36          0.40           0.14  \n",
       "2            0.03           0.86          0.23           0.74  \n",
       "3            0.57           0.70          0.69           0.07  \n",
       "4            0.29           0.00          0.00           0.09  \n",
       "5            1.31           1.34          2.95           0.82  \n",
       "\n",
       "[5 rows x 301 columns]"
      ]
     },
     "metadata": {},
     "output_type": "display_data"
    }
   ],
   "source": [
    "train = pd.read_csv(\"C:/Users/Phanindra.Panthagani/Documents/Fractal Work/LibertyMutual/train/train.csv\")\n",
    "train.set_index('id',inplace=True)\n",
    "display(train.head())"
   ]
  },
  {
   "cell_type": "code",
   "execution_count": 3,
   "metadata": {},
   "outputs": [],
   "source": [
    "#Generate Pandas train report \n",
    "#train_profile = ProfileReport(train, title=\"Pandas Profiling Report- Train Liberty Mutual\")\n"
   ]
  },
  {
   "cell_type": "code",
   "execution_count": 4,
   "metadata": {},
   "outputs": [
    {
     "name": "stderr",
     "output_type": "stream",
     "text": [
      "C:\\Users\\Phanindra.Panthagani\\Anaconda3\\envs\\nw_training\\lib\\site-packages\\IPython\\core\\interactiveshell.py:3063: DtypeWarning: Columns (7) have mixed types.Specify dtype option on import or set low_memory=False.\n",
      "  interactivity=interactivity, compiler=compiler, result=result)\n"
     ]
    },
    {
     "data": {
      "text/html": [
       "<div>\n",
       "<style scoped>\n",
       "    .dataframe tbody tr th:only-of-type {\n",
       "        vertical-align: middle;\n",
       "    }\n",
       "\n",
       "    .dataframe tbody tr th {\n",
       "        vertical-align: top;\n",
       "    }\n",
       "\n",
       "    .dataframe thead th {\n",
       "        text-align: right;\n",
       "    }\n",
       "</style>\n",
       "<table border=\"1\" class=\"dataframe\">\n",
       "  <thead>\n",
       "    <tr style=\"text-align: right;\">\n",
       "      <th></th>\n",
       "      <th>var1</th>\n",
       "      <th>var2</th>\n",
       "      <th>var3</th>\n",
       "      <th>var4</th>\n",
       "      <th>var5</th>\n",
       "      <th>var6</th>\n",
       "      <th>var7</th>\n",
       "      <th>var8</th>\n",
       "      <th>var9</th>\n",
       "      <th>var10</th>\n",
       "      <th>...</th>\n",
       "      <th>weatherVar227</th>\n",
       "      <th>weatherVar228</th>\n",
       "      <th>weatherVar229</th>\n",
       "      <th>weatherVar230</th>\n",
       "      <th>weatherVar231</th>\n",
       "      <th>weatherVar232</th>\n",
       "      <th>weatherVar233</th>\n",
       "      <th>weatherVar234</th>\n",
       "      <th>weatherVar235</th>\n",
       "      <th>weatherVar236</th>\n",
       "    </tr>\n",
       "    <tr>\n",
       "      <th>id</th>\n",
       "      <th></th>\n",
       "      <th></th>\n",
       "      <th></th>\n",
       "      <th></th>\n",
       "      <th></th>\n",
       "      <th></th>\n",
       "      <th></th>\n",
       "      <th></th>\n",
       "      <th></th>\n",
       "      <th></th>\n",
       "      <th></th>\n",
       "      <th></th>\n",
       "      <th></th>\n",
       "      <th></th>\n",
       "      <th></th>\n",
       "      <th></th>\n",
       "      <th></th>\n",
       "      <th></th>\n",
       "      <th></th>\n",
       "      <th></th>\n",
       "      <th></th>\n",
       "    </tr>\n",
       "  </thead>\n",
       "  <tbody>\n",
       "    <tr>\n",
       "      <th>10</th>\n",
       "      <td>Z</td>\n",
       "      <td>Z</td>\n",
       "      <td>Z</td>\n",
       "      <td>N1</td>\n",
       "      <td>Z</td>\n",
       "      <td>Z</td>\n",
       "      <td>4</td>\n",
       "      <td>2</td>\n",
       "      <td>A</td>\n",
       "      <td>4.17</td>\n",
       "      <td>...</td>\n",
       "      <td>1.66</td>\n",
       "      <td>0.00</td>\n",
       "      <td>0.00</td>\n",
       "      <td>0.13</td>\n",
       "      <td>0.29</td>\n",
       "      <td>0.82</td>\n",
       "      <td>2.09</td>\n",
       "      <td>0.43</td>\n",
       "      <td>0.75</td>\n",
       "      <td>0.35</td>\n",
       "    </tr>\n",
       "    <tr>\n",
       "      <th>11</th>\n",
       "      <td>Z</td>\n",
       "      <td>Z</td>\n",
       "      <td>Z</td>\n",
       "      <td>O2</td>\n",
       "      <td>Z</td>\n",
       "      <td>Z</td>\n",
       "      <td>6</td>\n",
       "      <td>4</td>\n",
       "      <td>A</td>\n",
       "      <td>4.04</td>\n",
       "      <td>...</td>\n",
       "      <td>0.99</td>\n",
       "      <td>0.00</td>\n",
       "      <td>0.00</td>\n",
       "      <td>0.00</td>\n",
       "      <td>0.27</td>\n",
       "      <td>0.73</td>\n",
       "      <td>0.97</td>\n",
       "      <td>0.21</td>\n",
       "      <td>0.23</td>\n",
       "      <td>0.20</td>\n",
       "    </tr>\n",
       "    <tr>\n",
       "      <th>14</th>\n",
       "      <td>Z</td>\n",
       "      <td>Z</td>\n",
       "      <td>Z</td>\n",
       "      <td>D3</td>\n",
       "      <td>Z</td>\n",
       "      <td>Z</td>\n",
       "      <td>7</td>\n",
       "      <td>2</td>\n",
       "      <td>A</td>\n",
       "      <td>3.78</td>\n",
       "      <td>...</td>\n",
       "      <td>0.43</td>\n",
       "      <td>0.00</td>\n",
       "      <td>0.00</td>\n",
       "      <td>0.53</td>\n",
       "      <td>0.18</td>\n",
       "      <td>1.05</td>\n",
       "      <td>0.67</td>\n",
       "      <td>0.96</td>\n",
       "      <td>0.40</td>\n",
       "      <td>0.06</td>\n",
       "    </tr>\n",
       "    <tr>\n",
       "      <th>16</th>\n",
       "      <td>2</td>\n",
       "      <td>Z</td>\n",
       "      <td>Z</td>\n",
       "      <td>G1</td>\n",
       "      <td>Z</td>\n",
       "      <td>Z</td>\n",
       "      <td>5</td>\n",
       "      <td>3</td>\n",
       "      <td>Z</td>\n",
       "      <td>4.31</td>\n",
       "      <td>...</td>\n",
       "      <td>1.04</td>\n",
       "      <td>0.00</td>\n",
       "      <td>0.00</td>\n",
       "      <td>0.00</td>\n",
       "      <td>0.79</td>\n",
       "      <td>0.66</td>\n",
       "      <td>1.12</td>\n",
       "      <td>0.00</td>\n",
       "      <td>0.00</td>\n",
       "      <td>0.60</td>\n",
       "    </tr>\n",
       "    <tr>\n",
       "      <th>20</th>\n",
       "      <td>Z</td>\n",
       "      <td>Z</td>\n",
       "      <td>Z</td>\n",
       "      <td>E4</td>\n",
       "      <td>Z</td>\n",
       "      <td>Z</td>\n",
       "      <td>2</td>\n",
       "      <td>2</td>\n",
       "      <td>A</td>\n",
       "      <td>3.90</td>\n",
       "      <td>...</td>\n",
       "      <td>nan</td>\n",
       "      <td>nan</td>\n",
       "      <td>nan</td>\n",
       "      <td>nan</td>\n",
       "      <td>nan</td>\n",
       "      <td>nan</td>\n",
       "      <td>nan</td>\n",
       "      <td>nan</td>\n",
       "      <td>nan</td>\n",
       "      <td>nan</td>\n",
       "    </tr>\n",
       "  </tbody>\n",
       "</table>\n",
       "<p>5 rows × 300 columns</p>\n",
       "</div>"
      ],
      "text/plain": [
       "   var1 var2 var3 var4 var5 var6 var7 var8 var9  var10  ...  weatherVar227  \\\n",
       "id                                                      ...                  \n",
       "10    Z    Z    Z   N1    Z    Z    4    2    A   4.17  ...           1.66   \n",
       "11    Z    Z    Z   O2    Z    Z    6    4    A   4.04  ...           0.99   \n",
       "14    Z    Z    Z   D3    Z    Z    7    2    A   3.78  ...           0.43   \n",
       "16    2    Z    Z   G1    Z    Z    5    3    Z   4.31  ...           1.04   \n",
       "20    Z    Z    Z   E4    Z    Z    2    2    A   3.90  ...            nan   \n",
       "\n",
       "    weatherVar228  weatherVar229  weatherVar230  weatherVar231  weatherVar232  \\\n",
       "id                                                                              \n",
       "10           0.00           0.00           0.13           0.29           0.82   \n",
       "11           0.00           0.00           0.00           0.27           0.73   \n",
       "14           0.00           0.00           0.53           0.18           1.05   \n",
       "16           0.00           0.00           0.00           0.79           0.66   \n",
       "20            nan            nan            nan            nan            nan   \n",
       "\n",
       "    weatherVar233 weatherVar234  weatherVar235  weatherVar236  \n",
       "id                                                             \n",
       "10           2.09          0.43           0.75           0.35  \n",
       "11           0.97          0.21           0.23           0.20  \n",
       "14           0.67          0.96           0.40           0.06  \n",
       "16           1.12          0.00           0.00           0.60  \n",
       "20            nan           nan            nan            nan  \n",
       "\n",
       "[5 rows x 300 columns]"
      ]
     },
     "execution_count": 4,
     "metadata": {},
     "output_type": "execute_result"
    }
   ],
   "source": [
    "test = pd.read_csv(\"C:/Users/Phanindra.Panthagani/Documents/Fractal Work/LibertyMutual/test/test.csv\")\n",
    "test.set_index('id',inplace=True)\n",
    "test.head()"
   ]
  },
  {
   "cell_type": "markdown",
   "metadata": {},
   "source": [
    "# Configuration "
   ]
  },
  {
   "cell_type": "code",
   "execution_count": 5,
   "metadata": {},
   "outputs": [],
   "source": [
    "#Creating categorical variable names and numerical ones \n",
    "\n",
    "config_categ_vars = ['var1','var2','var3','var4','var5','var6','var7','var8','var9','dummy']\n",
    "traincolslist = train.columns.to_list()\n",
    "config_var_noncontinous = config_categ_vars + ['target'] \n",
    "\n",
    "train_weight = train['var11']\n",
    "test_weight= test['var11']\n",
    "#From modelling \n",
    "variablestodrop = ['var12','var14','var16']\n",
    "config_continous_vars = list(set(traincolslist)-set(config_var_noncontinous)) \n",
    "config_continous_vars = list(set(config_continous_vars)-set(variablestodrop))\n",
    "\n",
    "train.drop(columns= variablestodrop,inplace=True)\n",
    "test.drop(columns = variablestodrop,inplace=True)\n",
    "#print('var12' in config_continous_vars)"
   ]
  },
  {
   "cell_type": "code",
   "execution_count": 6,
   "metadata": {},
   "outputs": [
    {
     "name": "stdout",
     "output_type": "stream",
     "text": [
      "Index(['var1', 'var2', 'var3', 'var4', 'var5', 'var6', 'var7', 'var8', 'var9',\n",
      "       'var10',\n",
      "       ...\n",
      "       'weatherVar227', 'weatherVar228', 'weatherVar229', 'weatherVar230',\n",
      "       'weatherVar231', 'weatherVar232', 'weatherVar233', 'weatherVar234',\n",
      "       'weatherVar235', 'weatherVar236'],\n",
      "      dtype='object', length=297)\n"
     ]
    }
   ],
   "source": [
    "y = train['target']\n",
    "X= train.drop(columns = ['target'])\n",
    "print(X.columns)"
   ]
  },
  {
   "cell_type": "markdown",
   "metadata": {},
   "source": [
    "# EDA"
   ]
  },
  {
   "cell_type": "markdown",
   "metadata": {},
   "source": [
    "# Types of Variables \n",
    "Weather - 236\n",
    "\n",
    "Crime - 9\n",
    "\n",
    "dummy - 1 \n",
    "\n",
    "Policy - 17\n",
    "\n",
    "id - 1 \n",
    "\n",
    "target - 1 "
   ]
  },
  {
   "cell_type": "markdown",
   "metadata": {},
   "source": [
    "# Insight \n",
    "Very Skewed distribution ,99.7% zeros, model with Tweedie distribution"
   ]
  },
  {
   "cell_type": "code",
   "execution_count": 7,
   "metadata": {},
   "outputs": [
    {
     "data": {
      "text/plain": [
       "856"
      ]
     },
     "execution_count": 7,
     "metadata": {},
     "output_type": "execute_result"
    }
   ],
   "source": [
    "#Level Z is missing value in categorical data as in the problem statement, we can replace Z with np.Nan \n",
    "train['var7'].replace({'Z': np.nan},inplace=True)\n",
    "train['var7'].isna().sum()\n",
    "# All the Z's are replaced with Nan values, these can be replaced with imputation \n"
   ]
  },
  {
   "cell_type": "markdown",
   "metadata": {},
   "source": [
    "# Imputation and One hot encoding"
   ]
  },
  {
   "cell_type": "code",
   "execution_count": 8,
   "metadata": {},
   "outputs": [],
   "source": [
    "#Using a simple strategy to one hot encode categories given a df \n",
    "\n",
    "def Imputeallcolumns_onehotcategorical(df,categ_columns = None ,continouscolumns = None):\n",
    "    '''\n",
    "    Function to Impute Cagtegorical columns in a dataframe with mode values \n",
    "    This function also one hot encodes categorical columns \n",
    "    df : pandas dataframe\n",
    "    categ_columns : Categorical column names\n",
    "    continouscolumns : Continous Column names\n",
    "    \n",
    "    '''\n",
    "    verbose=False\n",
    "    ##Categorical variables\n",
    "    for col in categ_columns:\n",
    "        col_mode=df[col].value_counts().index[0] #Calculate the mode of categorical variable \n",
    "        #Impute with categorical mode next line\n",
    "        df[col].fillna(col_mode, inplace=True)\n",
    "        #one hot encoding categorical variables below\n",
    "        if(verbose):\n",
    "            print(\"One hot encdoing the column\",col)\n",
    "        prefixname = 'one_hot_'+ col\n",
    "        \n",
    "        df = pd.concat([df,pd.get_dummies(df[col], prefix= prefixname ,dummy_na=False)],axis=1).drop([col],axis=1)\n",
    "\n",
    "    ##Continous variables\n",
    "    for col in continouscolumns:\n",
    "        if(verbose):\n",
    "            print(\"Imputing the continous Col: \",col)\n",
    "        df[col] = pd.to_numeric(df[col], downcast=\"float\")\n",
    "        col_median =df[col].median(skipna=True ) #Calculate the mode of categorical variable \n",
    "        if(col == 'var12'):\n",
    "            print(\"Col median for var 12 is\",col_median)\n",
    "        df[col]= df[col].fillna(col_median)\n",
    "        #df[col].replace({'NaN': col_median} ,inplace=True)\n",
    "        \n",
    "    return df "
   ]
  },
  {
   "cell_type": "code",
   "execution_count": 9,
   "metadata": {},
   "outputs": [
    {
     "name": "stderr",
     "output_type": "stream",
     "text": [
      "C:\\Users\\Phanindra.Panthagani\\Anaconda3\\envs\\nw_training\\lib\\site-packages\\pandas\\core\\generic.py:6245: SettingWithCopyWarning: \n",
      "A value is trying to be set on a copy of a slice from a DataFrame\n",
      "\n",
      "See the caveats in the documentation: https://pandas.pydata.org/pandas-docs/stable/user_guide/indexing.html#returning-a-view-versus-a-copy\n",
      "  self._update_inplace(new_data)\n"
     ]
    }
   ],
   "source": [
    "train_imputed = Imputeallcolumns_onehotcategorical(train,config_categ_vars,config_continous_vars)\n",
    "test_imputed =  Imputeallcolumns_onehotcategorical(test,config_categ_vars,config_continous_vars)"
   ]
  },
  {
   "cell_type": "code",
   "execution_count": 10,
   "metadata": {},
   "outputs": [
    {
     "data": {
      "text/html": [
       "<div>\n",
       "<style scoped>\n",
       "    .dataframe tbody tr th:only-of-type {\n",
       "        vertical-align: middle;\n",
       "    }\n",
       "\n",
       "    .dataframe tbody tr th {\n",
       "        vertical-align: top;\n",
       "    }\n",
       "\n",
       "    .dataframe thead th {\n",
       "        text-align: right;\n",
       "    }\n",
       "</style>\n",
       "<table border=\"1\" class=\"dataframe\">\n",
       "  <thead>\n",
       "    <tr style=\"text-align: right;\">\n",
       "      <th></th>\n",
       "      <th>target</th>\n",
       "      <th>var10</th>\n",
       "      <th>var11</th>\n",
       "      <th>var13</th>\n",
       "      <th>var15</th>\n",
       "      <th>var17</th>\n",
       "      <th>crimeVar1</th>\n",
       "      <th>crimeVar2</th>\n",
       "      <th>crimeVar3</th>\n",
       "      <th>crimeVar4</th>\n",
       "      <th>...</th>\n",
       "      <th>one_hot_var8_3</th>\n",
       "      <th>one_hot_var8_4</th>\n",
       "      <th>one_hot_var8_5</th>\n",
       "      <th>one_hot_var8_6</th>\n",
       "      <th>one_hot_var8_Z</th>\n",
       "      <th>one_hot_var9_A</th>\n",
       "      <th>one_hot_var9_B</th>\n",
       "      <th>one_hot_var9_Z</th>\n",
       "      <th>one_hot_dummy_A</th>\n",
       "      <th>one_hot_dummy_B</th>\n",
       "    </tr>\n",
       "    <tr>\n",
       "      <th>id</th>\n",
       "      <th></th>\n",
       "      <th></th>\n",
       "      <th></th>\n",
       "      <th></th>\n",
       "      <th></th>\n",
       "      <th></th>\n",
       "      <th></th>\n",
       "      <th></th>\n",
       "      <th></th>\n",
       "      <th></th>\n",
       "      <th></th>\n",
       "      <th></th>\n",
       "      <th></th>\n",
       "      <th></th>\n",
       "      <th></th>\n",
       "      <th></th>\n",
       "      <th></th>\n",
       "      <th></th>\n",
       "      <th></th>\n",
       "      <th></th>\n",
       "      <th></th>\n",
       "    </tr>\n",
       "  </thead>\n",
       "  <tbody>\n",
       "    <tr>\n",
       "      <th>1</th>\n",
       "      <td>0.00</td>\n",
       "      <td>3.90</td>\n",
       "      <td>705.91</td>\n",
       "      <td>0.00</td>\n",
       "      <td>29.00</td>\n",
       "      <td>84.34</td>\n",
       "      <td>0.87</td>\n",
       "      <td>0.63</td>\n",
       "      <td>0.69</td>\n",
       "      <td>0.70</td>\n",
       "      <td>...</td>\n",
       "      <td>0</td>\n",
       "      <td>0</td>\n",
       "      <td>0</td>\n",
       "      <td>0</td>\n",
       "      <td>0</td>\n",
       "      <td>1</td>\n",
       "      <td>0</td>\n",
       "      <td>0</td>\n",
       "      <td>1</td>\n",
       "      <td>0</td>\n",
       "    </tr>\n",
       "    <tr>\n",
       "      <th>2</th>\n",
       "      <td>0.00</td>\n",
       "      <td>3.90</td>\n",
       "      <td>778.94</td>\n",
       "      <td>1.27</td>\n",
       "      <td>23.00</td>\n",
       "      <td>100.00</td>\n",
       "      <td>1.05</td>\n",
       "      <td>0.67</td>\n",
       "      <td>0.90</td>\n",
       "      <td>0.66</td>\n",
       "      <td>...</td>\n",
       "      <td>0</td>\n",
       "      <td>0</td>\n",
       "      <td>0</td>\n",
       "      <td>0</td>\n",
       "      <td>0</td>\n",
       "      <td>1</td>\n",
       "      <td>0</td>\n",
       "      <td>0</td>\n",
       "      <td>1</td>\n",
       "      <td>0</td>\n",
       "    </tr>\n",
       "    <tr>\n",
       "      <th>3</th>\n",
       "      <td>0.00</td>\n",
       "      <td>4.31</td>\n",
       "      <td>686.73</td>\n",
       "      <td>2.48</td>\n",
       "      <td>26.00</td>\n",
       "      <td>0.00</td>\n",
       "      <td>1.89</td>\n",
       "      <td>1.51</td>\n",
       "      <td>1.27</td>\n",
       "      <td>1.26</td>\n",
       "      <td>...</td>\n",
       "      <td>0</td>\n",
       "      <td>1</td>\n",
       "      <td>0</td>\n",
       "      <td>0</td>\n",
       "      <td>0</td>\n",
       "      <td>0</td>\n",
       "      <td>0</td>\n",
       "      <td>1</td>\n",
       "      <td>0</td>\n",
       "      <td>1</td>\n",
       "    </tr>\n",
       "    <tr>\n",
       "      <th>4</th>\n",
       "      <td>0.00</td>\n",
       "      <td>4.31</td>\n",
       "      <td>3515.21</td>\n",
       "      <td>2.05</td>\n",
       "      <td>22.00</td>\n",
       "      <td>100.00</td>\n",
       "      <td>1.66</td>\n",
       "      <td>1.34</td>\n",
       "      <td>0.96</td>\n",
       "      <td>1.33</td>\n",
       "      <td>...</td>\n",
       "      <td>0</td>\n",
       "      <td>1</td>\n",
       "      <td>0</td>\n",
       "      <td>0</td>\n",
       "      <td>0</td>\n",
       "      <td>0</td>\n",
       "      <td>0</td>\n",
       "      <td>1</td>\n",
       "      <td>0</td>\n",
       "      <td>1</td>\n",
       "    </tr>\n",
       "    <tr>\n",
       "      <th>5</th>\n",
       "      <td>0.00</td>\n",
       "      <td>3.90</td>\n",
       "      <td>1014.57</td>\n",
       "      <td>0.83</td>\n",
       "      <td>21.00</td>\n",
       "      <td>2.42</td>\n",
       "      <td>0.89</td>\n",
       "      <td>1.38</td>\n",
       "      <td>1.13</td>\n",
       "      <td>1.25</td>\n",
       "      <td>...</td>\n",
       "      <td>0</td>\n",
       "      <td>1</td>\n",
       "      <td>0</td>\n",
       "      <td>0</td>\n",
       "      <td>0</td>\n",
       "      <td>1</td>\n",
       "      <td>0</td>\n",
       "      <td>0</td>\n",
       "      <td>1</td>\n",
       "      <td>0</td>\n",
       "    </tr>\n",
       "  </tbody>\n",
       "</table>\n",
       "<p>5 rows × 387 columns</p>\n",
       "</div>"
      ],
      "text/plain": [
       "    target  var10   var11  var13  var15  var17  crimeVar1  crimeVar2  \\\n",
       "id                                                                     \n",
       "1     0.00   3.90  705.91   0.00  29.00  84.34       0.87       0.63   \n",
       "2     0.00   3.90  778.94   1.27  23.00 100.00       1.05       0.67   \n",
       "3     0.00   4.31  686.73   2.48  26.00   0.00       1.89       1.51   \n",
       "4     0.00   4.31 3515.21   2.05  22.00 100.00       1.66       1.34   \n",
       "5     0.00   3.90 1014.57   0.83  21.00   2.42       0.89       1.38   \n",
       "\n",
       "    crimeVar3  crimeVar4  ...  one_hot_var8_3  one_hot_var8_4  one_hot_var8_5  \\\n",
       "id                        ...                                                   \n",
       "1        0.69       0.70  ...               0               0               0   \n",
       "2        0.90       0.66  ...               0               0               0   \n",
       "3        1.27       1.26  ...               0               1               0   \n",
       "4        0.96       1.33  ...               0               1               0   \n",
       "5        1.13       1.25  ...               0               1               0   \n",
       "\n",
       "    one_hot_var8_6  one_hot_var8_Z  one_hot_var9_A  one_hot_var9_B  \\\n",
       "id                                                                   \n",
       "1                0               0               1               0   \n",
       "2                0               0               1               0   \n",
       "3                0               0               0               0   \n",
       "4                0               0               0               0   \n",
       "5                0               0               1               0   \n",
       "\n",
       "    one_hot_var9_Z  one_hot_dummy_A  one_hot_dummy_B  \n",
       "id                                                    \n",
       "1                0                1                0  \n",
       "2                0                1                0  \n",
       "3                1                0                1  \n",
       "4                1                0                1  \n",
       "5                0                1                0  \n",
       "\n",
       "[5 rows x 387 columns]"
      ]
     },
     "execution_count": 10,
     "metadata": {},
     "output_type": "execute_result"
    }
   ],
   "source": [
    "\n",
    "train_imputed.head()"
   ]
  },
  {
   "cell_type": "code",
   "execution_count": 11,
   "metadata": {},
   "outputs": [
    {
     "data": {
      "text/plain": [
       "0"
      ]
     },
     "execution_count": 11,
     "metadata": {},
     "output_type": "execute_result"
    }
   ],
   "source": [
    "\n",
    "train_imputed.isnull().sum().sum()"
   ]
  },
  {
   "cell_type": "markdown",
   "metadata": {},
   "source": [
    "# Modelling"
   ]
  },
  {
   "cell_type": "markdown",
   "metadata": {},
   "source": [
    "# Train Test split with stratifying"
   ]
  },
  {
   "cell_type": "code",
   "execution_count": 12,
   "metadata": {},
   "outputs": [
    {
     "name": "stdout",
     "output_type": "stream",
     "text": [
      "True     450873\n",
      "False      1188\n",
      "Name: target_zeroornot_flag, dtype: int64\n",
      "True     360698\n",
      "False       950\n",
      "Name: target_zeroornot_flag, dtype: int64\n",
      "(361648, 386)\n",
      "(90413, 386)\n"
     ]
    },
    {
     "name": "stderr",
     "output_type": "stream",
     "text": [
      "C:\\Users\\Phanindra.Panthagani\\Anaconda3\\envs\\nw_training\\lib\\site-packages\\pandas\\core\\frame.py:3997: SettingWithCopyWarning: \n",
      "A value is trying to be set on a copy of a slice from a DataFrame\n",
      "\n",
      "See the caveats in the documentation: https://pandas.pydata.org/pandas-docs/stable/user_guide/indexing.html#returning-a-view-versus-a-copy\n",
      "  errors=errors,\n"
     ]
    }
   ],
   "source": [
    "from statsmodels import genmod\n",
    "import statsmodels as sm\n",
    "from sklearn.model_selection import train_test_split\n",
    "train_imputed['target_zeroornot_flag'] = (train_imputed['target'] == 0.0)\n",
    "y = train_imputed['target']\n",
    "X= train_imputed.drop(columns = ['target'])\n",
    "\n",
    "X_train, X_valid, y_train, y_valid = train_test_split(X, y,\n",
    "                                                    stratify= X['target_zeroornot_flag'],  #Stratifying using the flag \n",
    "                                                    test_size=0.2,random_state=123)\n",
    "\n",
    "\n",
    "print(train_imputed['target_zeroornot_flag'].value_counts())\n",
    "print(X_train['target_zeroornot_flag'].value_counts())\n",
    "\n",
    "#Train has 80% non-zero target values as in the print statement below \n",
    "\n",
    "X_train.drop(columns = ['target_zeroornot_flag'],inplace=True)\n",
    "X_valid.drop(columns = ['target_zeroornot_flag'],inplace=True)\n",
    "\n",
    "print(X_train.shape)\n",
    "print(X_valid.shape)"
   ]
  },
  {
   "cell_type": "markdown",
   "metadata": {},
   "source": [
    "#  Optimal P value"
   ]
  },
  {
   "cell_type": "code",
   "execution_count": 13,
   "metadata": {},
   "outputs": [
    {
     "name": "stdout",
     "output_type": "stream",
     "text": [
      "1.01\n"
     ]
    },
    {
     "name": "stderr",
     "output_type": "stream",
     "text": [
      "C:\\Users\\Phanindra.Panthagani\\Anaconda3\\envs\\nw_training\\lib\\site-packages\\pandas\\core\\series.py:679: RuntimeWarning: divide by zero encountered in log\n",
      "  result = getattr(ufunc, method)(*inputs, **kwargs)\n"
     ]
    }
   ],
   "source": [
    "\n",
    "import statsmodels.api as sm\n",
    "from scipy import stats\n",
    "glmtweedie = sm.GLM(y_train,X_train.drop(columns=['var11']))\n",
    "optimalp = glmtweedie.estimate_tweedie_power(mu=y_train, method='brentq', low=1.01, high=2.0)\n",
    "print(optimalp)"
   ]
  },
  {
   "cell_type": "markdown",
   "metadata": {},
   "source": [
    "# Tuning Hyper parameters using Hyperopt (Bayesian Learning)  for light gbm"
   ]
  },
  {
   "cell_type": "code",
   "execution_count": 14,
   "metadata": {},
   "outputs": [],
   "source": [
    "\n",
    "import lightgbm as lgb\n",
    "tweediepower = optimalp\n",
    "d_train = lgb.Dataset(X_train.drop(columns=['var11']), label=y_train,weight=X_train['var11']) #Passing weight column \n",
    "d_valid = lgb.Dataset(X_valid.drop(columns=['var11']), label=y_valid,weight=X_valid['var11'])\n",
    "watchlist = [d_valid]"
   ]
  },
  {
   "cell_type": "code",
   "execution_count": 15,
   "metadata": {},
   "outputs": [],
   "source": [
    "from sklearn.model_selection import cross_val_score, StratifiedKFold\n",
    "from sklearn.metrics import make_scorer\n",
    "\n",
    "def Gini(y_true, y_pred):\n",
    "    # check and get number of samples\n",
    "    assert y_true.shape == y_pred.shape\n",
    "    n_samples = y_true.shape[0]\n",
    "    \n",
    "    # sort rows on prediction column \n",
    "    # (from largest to smallest)\n",
    "    arr = np.array([y_true, y_pred]).transpose()\n",
    "    true_order = arr[arr[:,0].argsort()][::-1,0]\n",
    "    pred_order = arr[arr[:,1].argsort()][::-1,0]\n",
    "    \n",
    "    # get Lorenz curves\n",
    "    L_true = np.cumsum(true_order) / np.sum(true_order)\n",
    "    L_pred = np.cumsum(pred_order) / np.sum(pred_order)\n",
    "    L_ones = np.linspace(1/n_samples, 1, n_samples)\n",
    "    \n",
    "    # get Gini coefficients (area between curves)\n",
    "    G_true = np.sum(L_ones - L_true)\n",
    "    G_pred = np.sum(L_ones - L_pred)\n",
    "    \n",
    "    # normalize to true Gini coefficient\n",
    "    return G_pred/G_true\n",
    "gini_scorer = make_scorer(Gini, greater_is_better=True, needs_proba=True)\n"
   ]
  },
  {
   "cell_type": "code",
   "execution_count": 16,
   "metadata": {},
   "outputs": [],
   "source": [
    "from hyperopt import hp, tpe\n",
    "from hyperopt.fmin import fmin\n",
    "from lightgbm import LGBMRegressor\n",
    "from hyperopt.pyll.base import scope\n",
    "import eda_function_team2 as EDAF\n",
    "\n",
    "def objective(params):\n",
    "    params = {\n",
    "        'learning_rate' : params['learning_rate'],\n",
    "        'num_trees' : params['num_trees'],\n",
    "        'application': 'tweedie', #Tweedie with log link : https://lightgbm.readthedocs.io/en/latest/Parameters.html\n",
    "        'objective': 'tweedie',  #Everything should be tweedie for Tweedie regression \n",
    "        'metric': 'tweedie',\n",
    "        'tweedie_variance_power' : tweediepower,\n",
    "        \n",
    "    }\n",
    "    \n",
    "    clf = LGBMRegressor(\n",
    "        **params\n",
    "    )\n",
    "    \n",
    "    clf.fit(X_train.drop(columns=['var11']),y_train,sample_weight=X_train['var11'])\n",
    "    ytrain_predicted = clf.predict(X_train.drop(columns=['var11']),predict_contrib=True)\n",
    "    trainmetrics = EDAF.calcu_metrics(y_train, ytrain_predicted, X_train.drop(columns=['var11']),weight_column= X_train['var11'], \n",
    "                                tweedie_p_value = tweediepower)\n",
    "    tweedie_dev_train = trainmetrics[trainmetrics['Metrics'] == 'Tweedie deviance']['Value'].values\n",
    "    print(\"tweedie_dev_train {} params {}\".format(tweedie_dev_train.item(), params))\n",
    "    return tweedie_dev_train.item()  #Retruning the actual value instead of an array \n",
    "\n",
    "space = {\n",
    "    'max_depth': scope.int(hp.quniform('max_depth', 3, 128, 1)),\n",
    "    'reg_alpha' :  hp.quniform('reg_alpha', 0, 1, 0.05),\n",
    "    'learning_rate' :  hp.quniform('learning_rate', 0.04, 0.1, 0.01), #Choosing a Uniform distribution between 0 and 1\n",
    "     'num_trees' :   scope.int(hp.quniform('num_trees', 100,3000, 100)) #Values like 100,200,300.....upto 3000\n",
    "}\n",
    "\n"
   ]
  },
  {
   "cell_type": "code",
   "execution_count": 17,
   "metadata": {},
   "outputs": [
    {
     "name": "stdout",
     "output_type": "stream",
     "text": [
      "\r",
      "  0%|                                                                           | 0/10 [00:00<?, ?trial/s, best loss=?]"
     ]
    },
    {
     "name": "stderr",
     "output_type": "stream",
     "text": [
      "C:\\Users\\Phanindra.Panthagani\\Anaconda3\\envs\\nw_training\\lib\\site-packages\\lightgbm\\engine.py:148: UserWarning: Found `num_trees` in params. Will use it instead of argument\n",
      "  warnings.warn(\"Found `{}` in params. Will use it instead of argument\".format(alias))\n",
      "\n"
     ]
    },
    {
     "name": "stdout",
     "output_type": "stream",
     "text": [
      "tweedie_dev_train 0.006595937994108486 params {'learning_rate': 0.05, 'num_trees': 1000, 'application': 'tweedie', 'objective': 'tweedie', 'metric': 'tweedie', 'tweedie_variance_power': 1.01}\n",
      "tweedie_dev_train 0.008294972775746702 params {'learning_rate': 0.05, 'num_trees': 800, 'application': 'tweedie', 'objective': 'tweedie', 'metric': 'tweedie', 'tweedie_variance_power': 1.01}\n",
      "tweedie_dev_train 0.0014554561322929621 params {'learning_rate': 0.07, 'num_trees': 2500, 'application': 'tweedie', 'objective': 'tweedie', 'metric': 'tweedie', 'tweedie_variance_power': 1.01}\n",
      "tweedie_dev_train 0.005396655120225031 params {'learning_rate': 0.08, 'num_trees': 700, 'application': 'tweedie', 'objective': 'tweedie', 'metric': 'tweedie', 'tweedie_variance_power': 1.01}\n",
      "tweedie_dev_train 0.005551797789266837 params {'learning_rate': 0.09, 'num_trees': 600, 'application': 'tweedie', 'objective': 'tweedie', 'metric': 'tweedie', 'tweedie_variance_power': 1.01}\n",
      "tweedie_dev_train 0.0068109521047709926 params {'learning_rate': 0.09, 'num_trees': 500, 'application': 'tweedie', 'objective': 'tweedie', 'metric': 'tweedie', 'tweedie_variance_power': 1.01}\n",
      "tweedie_dev_train 0.021267168285556425 params {'learning_rate': 0.04, 'num_trees': 300, 'application': 'tweedie', 'objective': 'tweedie', 'metric': 'tweedie', 'tweedie_variance_power': 1.01}\n",
      "tweedie_dev_train 0.002593558506460429 params {'learning_rate': 0.05, 'num_trees': 2200, 'application': 'tweedie', 'objective': 'tweedie', 'metric': 'tweedie', 'tweedie_variance_power': 1.01}\n",
      "tweedie_dev_train 0.002393011702211284 params {'learning_rate': 0.08, 'num_trees': 1400, 'application': 'tweedie', 'objective': 'tweedie', 'metric': 'tweedie', 'tweedie_variance_power': 1.01}\n",
      "tweedie_dev_train 0.001096591399398908 params {'learning_rate': 0.09, 'num_trees': 2500, 'application': 'tweedie', 'objective': 'tweedie', 'metric': 'tweedie', 'tweedie_variance_power': 1.01}\n",
      "100%|█████████████████████████████████████████████| 10/10 [45:45<00:00, 274.52s/trial, best loss: 0.001096591399398908]\n"
     ]
    }
   ],
   "source": [
    "\n",
    "best = fmin(fn=objective,\n",
    "            space=space,\n",
    "            algo=tpe.suggest,\n",
    "            max_evals=10)"
   ]
  },
  {
   "cell_type": "code",
   "execution_count": null,
   "metadata": {},
   "outputs": [],
   "source": []
  },
  {
   "cell_type": "markdown",
   "metadata": {},
   "source": [
    "# lgb model 5"
   ]
  },
  {
   "cell_type": "code",
   "execution_count": 18,
   "metadata": {},
   "outputs": [
    {
     "name": "stdout",
     "output_type": "stream",
     "text": [
      "Hyperopt estimated optimum {'learning_rate': 0.09, 'max_depth': 24, 'num_trees': 2500, 'reg_alpha': 0.9500000000000001}\n"
     ]
    }
   ],
   "source": [
    "best['max_depth'] = int(best['max_depth'])\n",
    "best['num_trees'] = int(best['num_trees'])\n",
    "print(\"Hyperopt estimated optimum {}\".format(best))"
   ]
  },
  {
   "cell_type": "code",
   "execution_count": 19,
   "metadata": {},
   "outputs": [
    {
     "data": {
      "text/plain": [
       "{'application': 'tweedie',\n",
       " 'objective': 'tweedie',\n",
       " 'metric': 'tweedie',\n",
       " 'tweedie_variance_power': 1.01,\n",
       " 'learning_rate': 0.09,\n",
       " 'max_depth': 24,\n",
       " 'num_trees': 2500,\n",
       " 'reg_alpha': 0.9500000000000001}"
      ]
     },
     "execution_count": 19,
     "metadata": {},
     "output_type": "execute_result"
    }
   ],
   "source": [
    "#Using Light gbm regression \n",
    "from lightgbm import LGBMRegressor\n",
    "\n",
    "import lightgbm as lgb\n",
    "\n",
    "\n",
    "parameters = {\n",
    "        'application': 'tweedie', #Tweedie with log link : https://lightgbm.readthedocs.io/en/latest/Parameters.html\n",
    "        'objective': 'tweedie',  #Everything should be tweedie for Tweedie regression \n",
    "        'metric': 'tweedie',\n",
    "        'tweedie_variance_power' : tweediepower,\n",
    "    **(best)\n",
    "}\n",
    "\n",
    "parameters"
   ]
  },
  {
   "cell_type": "code",
   "execution_count": 20,
   "metadata": {},
   "outputs": [
    {
     "name": "stdout",
     "output_type": "stream",
     "text": [
      "[100]\tvalid_0's tweedie: 0.776411\n",
      "[200]\tvalid_0's tweedie: 0.778834\n",
      "[300]\tvalid_0's tweedie: 0.781144\n",
      "[400]\tvalid_0's tweedie: 0.783769\n",
      "[500]\tvalid_0's tweedie: 0.786372\n",
      "[600]\tvalid_0's tweedie: 0.788855\n",
      "[700]\tvalid_0's tweedie: 0.791355\n",
      "[800]\tvalid_0's tweedie: 0.793861\n",
      "[900]\tvalid_0's tweedie: 0.796446\n",
      "[1000]\tvalid_0's tweedie: 0.798928\n",
      "[1100]\tvalid_0's tweedie: 0.801407\n",
      "[1200]\tvalid_0's tweedie: 0.803922\n",
      "[1300]\tvalid_0's tweedie: 0.806593\n",
      "[1400]\tvalid_0's tweedie: 0.809465\n",
      "[1500]\tvalid_0's tweedie: 0.811884\n",
      "[1600]\tvalid_0's tweedie: 0.814644\n",
      "[1700]\tvalid_0's tweedie: 0.817134\n",
      "[1800]\tvalid_0's tweedie: 0.819758\n",
      "[1900]\tvalid_0's tweedie: 0.821988\n",
      "[2000]\tvalid_0's tweedie: 0.824259\n",
      "[2100]\tvalid_0's tweedie: 0.826261\n",
      "[2200]\tvalid_0's tweedie: 0.82874\n",
      "[2300]\tvalid_0's tweedie: 0.830592\n",
      "[2400]\tvalid_0's tweedie: 0.832767\n",
      "[2500]\tvalid_0's tweedie: 0.834905\n"
     ]
    }
   ],
   "source": [
    "n_estimators = 1000\n",
    "iteration_name= 'lgb_5_hyperpopt'\n",
    "#Training \n",
    "lgb_basemodel = lgb.train(parameters, d_train, n_estimators,watchlist, verbose_eval=100)"
   ]
  },
  {
   "cell_type": "code",
   "execution_count": 21,
   "metadata": {},
   "outputs": [
    {
     "data": {
      "text/plain": [
       "['lgb_5_hyperpopt.pkl']"
      ]
     },
     "execution_count": 21,
     "metadata": {},
     "output_type": "execute_result"
    }
   ],
   "source": [
    "#Make the model into pickle file \n",
    "import joblib\n",
    "# save model\n",
    "joblib.dump(lgb_basemodel, iteration_name+'.pkl')\n"
   ]
  },
  {
   "cell_type": "markdown",
   "metadata": {},
   "source": [
    "# Metrics"
   ]
  },
  {
   "cell_type": "code",
   "execution_count": 22,
   "metadata": {},
   "outputs": [
    {
     "name": "stdout",
     "output_type": "stream",
     "text": [
      "0\n",
      "[1.37992083e-07 2.86028856e-07 7.53766109e-06 ... 3.90930617e-07\n",
      " 1.38746695e-08 4.73445115e-09]\n"
     ]
    },
    {
     "data": {
      "text/html": [
       "<div>\n",
       "<style scoped>\n",
       "    .dataframe tbody tr th:only-of-type {\n",
       "        vertical-align: middle;\n",
       "    }\n",
       "\n",
       "    .dataframe tbody tr th {\n",
       "        vertical-align: top;\n",
       "    }\n",
       "\n",
       "    .dataframe thead th {\n",
       "        text-align: right;\n",
       "    }\n",
       "</style>\n",
       "<table border=\"1\" class=\"dataframe\">\n",
       "  <thead>\n",
       "    <tr style=\"text-align: right;\">\n",
       "      <th></th>\n",
       "      <th>Metrics</th>\n",
       "      <th>Value</th>\n",
       "    </tr>\n",
       "  </thead>\n",
       "  <tbody>\n",
       "    <tr>\n",
       "      <th>0</th>\n",
       "      <td>Tweedie deviance</td>\n",
       "      <td>0.23</td>\n",
       "    </tr>\n",
       "    <tr>\n",
       "      <th>1</th>\n",
       "      <td>RMSE</td>\n",
       "      <td>0.27</td>\n",
       "    </tr>\n",
       "    <tr>\n",
       "      <th>2</th>\n",
       "      <td>RMSLE</td>\n",
       "      <td>0.08</td>\n",
       "    </tr>\n",
       "    <tr>\n",
       "      <th>3</th>\n",
       "      <td>Gini Coefficient</td>\n",
       "      <td>0.21</td>\n",
       "    </tr>\n",
       "  </tbody>\n",
       "</table>\n",
       "</div>"
      ],
      "text/plain": [
       "            Metrics  Value\n",
       "0  Tweedie deviance   0.23\n",
       "1              RMSE   0.27\n",
       "2             RMSLE   0.08\n",
       "3  Gini Coefficient   0.21"
      ]
     },
     "execution_count": 22,
     "metadata": {},
     "output_type": "execute_result"
    }
   ],
   "source": [
    "import eda_function_team2 as EDAF\n",
    "\n",
    "#Predict the values using the lgb_basemodel\n",
    "y_pred = lgb_basemodel.predict(X_valid.drop(columns=['var11']),predict_contrib=True)\n",
    "#y_pred = np.exp(y_pred)\n",
    "\n",
    "print(sum(y_pred<0))\n",
    "print(y_pred)\n",
    "\n",
    "validmetrics = EDAF.calcu_metrics(y_valid, y_pred, X_valid.drop(columns=['var11']),weight_column= X_valid['var11'], \n",
    "                                  tweedie_p_value = tweediepower)\n",
    "validmetrics\n",
    "\n",
    "\n",
    "####********** TODO : Write the sns function to get optimal tweedie p value "
   ]
  },
  {
   "cell_type": "code",
   "execution_count": 23,
   "metadata": {},
   "outputs": [
    {
     "data": {
      "text/html": [
       "<div>\n",
       "<style scoped>\n",
       "    .dataframe tbody tr th:only-of-type {\n",
       "        vertical-align: middle;\n",
       "    }\n",
       "\n",
       "    .dataframe tbody tr th {\n",
       "        vertical-align: top;\n",
       "    }\n",
       "\n",
       "    .dataframe thead th {\n",
       "        text-align: right;\n",
       "    }\n",
       "</style>\n",
       "<table border=\"1\" class=\"dataframe\">\n",
       "  <thead>\n",
       "    <tr style=\"text-align: right;\">\n",
       "      <th></th>\n",
       "      <th>Metrics</th>\n",
       "      <th>Value</th>\n",
       "    </tr>\n",
       "  </thead>\n",
       "  <tbody>\n",
       "    <tr>\n",
       "      <th>0</th>\n",
       "      <td>Tweedie deviance</td>\n",
       "      <td>0.00</td>\n",
       "    </tr>\n",
       "    <tr>\n",
       "      <th>1</th>\n",
       "      <td>RMSE</td>\n",
       "      <td>0.04</td>\n",
       "    </tr>\n",
       "    <tr>\n",
       "      <th>2</th>\n",
       "      <td>RMSLE</td>\n",
       "      <td>0.01</td>\n",
       "    </tr>\n",
       "    <tr>\n",
       "      <th>3</th>\n",
       "      <td>Gini Coefficient</td>\n",
       "      <td>1.00</td>\n",
       "    </tr>\n",
       "  </tbody>\n",
       "</table>\n",
       "</div>"
      ],
      "text/plain": [
       "            Metrics  Value\n",
       "0  Tweedie deviance   0.00\n",
       "1              RMSE   0.04\n",
       "2             RMSLE   0.01\n",
       "3  Gini Coefficient   1.00"
      ]
     },
     "execution_count": 23,
     "metadata": {},
     "output_type": "execute_result"
    }
   ],
   "source": [
    "\n",
    "ytrain_predicted = lgb_basemodel.predict(X_train.drop(columns=['var11']),predict_contrib=True)\n",
    "#ytrain_predicted = np.exp(ytrain_predicted)\n",
    "\n",
    "trainmetrics = EDAF.calcu_metrics(y_train, ytrain_predicted, X_train.drop(columns=['var11']),weight_column= X_train['var11'], \n",
    "                                tweedie_p_value = tweediepower)\n",
    "trainmetrics"
   ]
  },
  {
   "cell_type": "code",
   "execution_count": 24,
   "metadata": {},
   "outputs": [
    {
     "data": {
      "text/plain": [
       "0.0010869246435816174"
      ]
     },
     "execution_count": 24,
     "metadata": {},
     "output_type": "execute_result"
    }
   ],
   "source": [
    "tweedie_dev_train=trainmetrics[trainmetrics['Metrics'] == 'Tweedie deviance']['Value'].values\n",
    "tweedie_dev_train.item()"
   ]
  },
  {
   "cell_type": "markdown",
   "metadata": {},
   "source": [
    "# SHAP Values Feature importance"
   ]
  },
  {
   "cell_type": "code",
   "execution_count": 25,
   "metadata": {},
   "outputs": [],
   "source": [
    "import shap"
   ]
  },
  {
   "cell_type": "code",
   "execution_count": 26,
   "metadata": {},
   "outputs": [
    {
     "name": "stderr",
     "output_type": "stream",
     "text": [
      "Setting feature_perturbation = \"tree_path_dependent\" because no background data was given.\n"
     ]
    },
    {
     "name": "stdout",
     "output_type": "stream",
     "text": [
      "Wall time: 27min 56s\n"
     ]
    }
   ],
   "source": [
    "%time shap_values = shap.TreeExplainer(lgb_basemodel).shap_values(X_valid.drop(columns=['var11']))"
   ]
  },
  {
   "cell_type": "code",
   "execution_count": 27,
   "metadata": {},
   "outputs": [
    {
     "data": {
      "image/png": "[encoded data removed]",
      "text/plain": [
       "<Figure size 576x684 with 2 Axes>"
      ]
     },
     "metadata": {},
     "output_type": "display_data"
    }
   ],
   "source": [
    "shap.summary_plot(shap_values, X_valid.drop(columns=['var11']))"
   ]
  },
  {
   "cell_type": "code",
   "execution_count": null,
   "metadata": {},
   "outputs": [],
   "source": []
  },
  {
   "cell_type": "code",
   "execution_count": 28,
   "metadata": {},
   "outputs": [
    {
     "data": {
      "image/png": "[encoded data removed]",
      "text/plain": [
       "<Figure size 540x360 with 2 Axes>"
      ]
     },
     "metadata": {},
     "output_type": "display_data"
    }
   ],
   "source": [
    "shap.dependence_plot(\"var13\", shap_values,  X_valid.drop(columns=['var11']))"
   ]
  },
  {
   "cell_type": "code",
   "execution_count": 29,
   "metadata": {},
   "outputs": [
    {
     "data": {
      "text/plain": [
       "90413"
      ]
     },
     "execution_count": 29,
     "metadata": {},
     "output_type": "execute_result"
    }
   ],
   "source": [
    "X_valid.drop(columns=['var11']).head()\n",
    "len(X_valid.drop(columns=['var11']))"
   ]
  },
  {
   "cell_type": "code",
   "execution_count": null,
   "metadata": {},
   "outputs": [],
   "source": []
  },
  {
   "cell_type": "code",
   "execution_count": null,
   "metadata": {},
   "outputs": [],
   "source": []
  },
  {
   "cell_type": "code",
   "execution_count": null,
   "metadata": {},
   "outputs": [],
   "source": []
  },
  {
   "cell_type": "code",
   "execution_count": null,
   "metadata": {},
   "outputs": [],
   "source": []
  },
  {
   "cell_type": "code",
   "execution_count": null,
   "metadata": {},
   "outputs": [],
   "source": []
  }
 ],
 "metadata": {
  "kernelspec": {
   "display_name": "Python 3",
   "language": "python",
   "name": "python3"
  },
  "language_info": {
   "codemirror_mode": {
    "name": "ipython",
    "version": 3
   },
   "file_extension": ".py",
   "mimetype": "text/x-python",
   "name": "python",
   "nbconvert_exporter": "python",
   "pygments_lexer": "ipython3",
   "version": "3.6.10"
  }
 },
 "nbformat": 4,
 "nbformat_minor": 4
}
